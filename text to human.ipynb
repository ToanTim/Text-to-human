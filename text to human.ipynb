{
  "cells": [
    {
      "cell_type": "markdown",
      "source": [
        "## **Text generator**"
      ],
      "metadata": {
        "id": "K-n5QiwzYpp4"
      }
    },
    {
      "cell_type": "code",
      "source": [
        "!pip install cohere\n",
        "import cohere\n",
        "co = cohere.Client(\"voUEw0C1SJJIugnJ55Ou8VJCqGvucJVEZtcffFhu\")"
      ],
      "metadata": {
        "id": "1qK7ad_rYvTR",
        "colab": {
          "base_uri": "https://localhost:8080/"
        },
        "outputId": "4c648e19-cfeb-4c6a-e3da-6a646a04f164"
      },
      "execution_count": null,
      "outputs": [
        {
          "output_type": "stream",
          "name": "stdout",
          "text": [
            "Looking in indexes: https://pypi.org/simple, https://us-python.pkg.dev/colab-wheels/public/simple/\n",
            "Requirement already satisfied: cohere in /usr/local/lib/python3.7/dist-packages (2.8.0)\n",
            "Requirement already satisfied: requests in /usr/local/lib/python3.7/dist-packages (from cohere) (2.23.0)\n",
            "Requirement already satisfied: idna<3,>=2.5 in /usr/local/lib/python3.7/dist-packages (from requests->cohere) (2.10)\n",
            "Requirement already satisfied: urllib3!=1.25.0,!=1.25.1,<1.26,>=1.21.1 in /usr/local/lib/python3.7/dist-packages (from requests->cohere) (1.24.3)\n",
            "Requirement already satisfied: chardet<4,>=3.0.2 in /usr/local/lib/python3.7/dist-packages (from requests->cohere) (3.0.4)\n",
            "Requirement already satisfied: certifi>=2017.4.17 in /usr/local/lib/python3.7/dist-packages (from requests->cohere) (2022.9.24)\n"
          ]
        }
      ]
    },
    {
      "cell_type": "markdown",
      "source": [
        "##### User input"
      ],
      "metadata": {
        "id": "ak4nL9P0CFUX"
      }
    },
    {
      "cell_type": "code",
      "source": [
        "input_user= input(\"Hello, how can i help you?\\n\")"
      ],
      "metadata": {
        "colab": {
          "base_uri": "https://localhost:8080/"
        },
        "id": "gCswh2NdtieT",
        "outputId": "3c3b2ec0-3143-460e-dccd-45a571e48e38"
      },
      "execution_count": null,
      "outputs": [
        {
          "name": "stdout",
          "output_type": "stream",
          "text": [
            "Hello, how can i help you?\n",
            "what is software engineer\n"
          ]
        }
      ]
    },
    {
      "cell_type": "code",
      "source": [
        "response = co.generate(\n",
        "  model='large',\n",
        "  prompt='Topic: Business analyst\\nInput: A business analyst is a professional who analyzes an organization or business domain and documents its business or processes or systems, assessing the business model or its integration with technology.\\nOutput:\\nO: \"A photo of Obeo talking, artwork of ((artwork of (business analyst) as a hologram in background)), 8k\",\\n60: \"A photo of Obeo talking, artwork of ((artwork of (organization) as a hologram in background)), 8k\",\\n120: \"A photo of Obeo talking, artwork of ((artwork of (business model) as a hologram in background)), 8k\",\\n\\nTopic: Data analyst\\nInput: A data analyst is a professional who analyzes data in order to help a business mak better decisions. A data analyst may work in a variety of industries, including business, government, and healthcare\\nOutput:\\nO: \"A photo of Obeo talking, artwork of (artwork of (data analyst) as a hologram in background)), 8k\",\\n60: \"A photo of Obeo talking, artwork of ((artwork of (data) as a hologram in background)), 8k\",\\n120: \"A photo of Obeo talking, artwork of ((artwork of (better decisions) as a hologram in background)), 8K\",\\n\\n'+'Topic: '+input_user+'\\n\\n\\n',\n",
        "  max_tokens=150,\n",
        "  temperature=0.9,\n",
        "  k=0,\n",
        "  p=0.75,\n",
        "  frequency_penalty=0,\n",
        "  presence_penalty=0,\n",
        "  stop_sequences=[\"\\n\\n\"],\n",
        "  return_likelihoods='NONE',\n",
        " )\n",
        "\n",
        "#''' response_prompt = co.classify(\n",
        "#    model='medium',\n",
        "#    inputs=inputs,\n",
        "#    examples=examples2) '''\n",
        "\n",
        "AI_response = str(response.generations[0].text)\n",
        "AI_response=AI_response.replace('\\n', ' ')\n",
        "AI_response=AI_response.replace('Input: ', ' ')\n",
        "AI_response=AI_response.replace('? ', '')\n",
        "AI_response=AI_response.replace('Output: ', ' ').split('  O:')[0]\n",
        "\n",
        "AI_response\n"
      ],
      "metadata": {
        "colab": {
          "base_uri": "https://localhost:8080/",
          "height": 73
        },
        "id": "WSc-KFYwtjOH",
        "outputId": "6ea03ee0-3a37-4314-8793-5d3017c9f19c"
      },
      "execution_count": null,
      "outputs": [
        {
          "output_type": "stream",
          "name": "stderr",
          "text": [
            "\u001b[93mWarning: Your text contains a trailing whitespace, which has been trimmed to ensure high quality generations.\n",
            "\u001b[0m\n"
          ]
        },
        {
          "output_type": "execute_result",
          "data": {
            "text/plain": [
              "'  Software engineer is a professional who develops, tests, and maintains the software, both the user interface and the core of the application, by using tools, languages, and programming techniques.'"
            ],
            "application/vnd.google.colaboratory.intrinsic+json": {
              "type": "string"
            }
          },
          "metadata": {},
          "execution_count": 60
        }
      ]
    },
    {
      "cell_type": "code",
      "source": [
        "animation_prompts = str(response.generations[0].text)\n",
        "animation_prompts=animation_prompts.replace('\\n', ' ')\n",
        "animation_prompts=animation_prompts.replace('Input: ', ' ')\n",
        "animation_prompts=\"O: \"+animation_prompts.replace('Output: ', ' ').split('  O:')[1]\n",
        "animation_prompts"
      ],
      "metadata": {
        "colab": {
          "base_uri": "https://localhost:8080/",
          "height": 55
        },
        "id": "9CY-39Yn0Kog",
        "outputId": "38de710d-8ff2-4659-a5e9-d4daf128b952"
      },
      "execution_count": null,
      "outputs": [
        {
          "output_type": "execute_result",
          "data": {
            "text/plain": [
              "'O:  \"A photo of Obeo talking, artwork of ((artwork of (software engineer) as a hologram in background)), 8k\", 60: \"A photo of Obeo talking, artwork of ((artwork of (software) as a hologram in background)), 8k\", 120: \"A photo of Obeo talking, artwork of ((artwork of (software development) as a hologram in background)), 8k\",  '"
            ],
            "application/vnd.google.colaboratory.intrinsic+json": {
              "type": "string"
            }
          },
          "metadata": {},
          "execution_count": 59
        }
      ]
    },
    {
      "cell_type": "markdown",
      "source": [
        "## **From Text to Audio**"
      ],
      "metadata": {
        "id": "_dwxJI75Yg3K"
      }
    },
    {
      "cell_type": "code",
      "execution_count": null,
      "metadata": {
        "colab": {
          "base_uri": "https://localhost:8080/"
        },
        "id": "qHgwxNUHgIQi",
        "outputId": "d6f5da39-adad-46e0-d081-afe25f1c26a4"
      },
      "outputs": [
        {
          "output_type": "stream",
          "name": "stdout",
          "text": [
            "/content\n",
            "sample_data\n"
          ]
        }
      ],
      "source": [
        "%cd /content\n",
        "!ls"
      ]
    },
    {
      "cell_type": "code",
      "source": [
        "# the scipy version packaged with colab is not tolerant of misformated WAV files.\n",
        "# install the latest version.\n",
        "!pip3 install -U scipy\n",
        "!pip install pydub\n",
        "!git clone https://github.com/jnordberg/tortoise-tts.git\n",
        "%cd tortoise-tts\n",
        "!pip3 install transformers==4.19.0\n",
        "!pip3 install -r requirements.txt\n",
        "!python3 setup.py install\n",
        "# Imports used through the rest of the notebook."
      ],
      "metadata": {
        "colab": {
          "base_uri": "https://localhost:8080/"
        },
        "id": "A_C_fSxPvX5g",
        "outputId": "04e28744-868b-43b1-ba4a-7659ae8e2a63"
      },
      "execution_count": null,
      "outputs": [
        {
          "output_type": "stream",
          "name": "stdout",
          "text": [
            "Looking in indexes: https://pypi.org/simple, https://us-python.pkg.dev/colab-wheels/public/simple/\n",
            "Requirement already satisfied: scipy in /usr/local/lib/python3.7/dist-packages (1.7.3)\n",
            "Requirement already satisfied: numpy<1.23.0,>=1.16.5 in /usr/local/lib/python3.7/dist-packages (from scipy) (1.21.6)\n",
            "Looking in indexes: https://pypi.org/simple, https://us-python.pkg.dev/colab-wheels/public/simple/\n",
            "Collecting pydub\n",
            "  Downloading pydub-0.25.1-py2.py3-none-any.whl (32 kB)\n",
            "Installing collected packages: pydub\n",
            "Successfully installed pydub-0.25.1\n",
            "Cloning into 'tortoise-tts'...\n",
            "remote: Enumerating objects: 1481, done.\u001b[K\n",
            "remote: Total 1481 (delta 0), reused 0 (delta 0), pack-reused 1481\u001b[K\n",
            "Receiving objects: 100% (1481/1481), 53.58 MiB | 34.81 MiB/s, done.\n",
            "Resolving deltas: 100% (590/590), done.\n",
            "/content/tortoise-tts\n",
            "Looking in indexes: https://pypi.org/simple, https://us-python.pkg.dev/colab-wheels/public/simple/\n",
            "Collecting transformers==4.19.0\n",
            "  Downloading transformers-4.19.0-py3-none-any.whl (4.2 MB)\n",
            "\u001b[K     |████████████████████████████████| 4.2 MB 4.9 MB/s \n",
            "\u001b[?25hRequirement already satisfied: pyyaml>=5.1 in /usr/local/lib/python3.7/dist-packages (from transformers==4.19.0) (6.0)\n",
            "Requirement already satisfied: requests in /usr/local/lib/python3.7/dist-packages (from transformers==4.19.0) (2.23.0)\n",
            "Requirement already satisfied: importlib-metadata in /usr/local/lib/python3.7/dist-packages (from transformers==4.19.0) (4.13.0)\n",
            "Requirement already satisfied: filelock in /usr/local/lib/python3.7/dist-packages (from transformers==4.19.0) (3.8.0)\n",
            "Requirement already satisfied: regex!=2019.12.17 in /usr/local/lib/python3.7/dist-packages (from transformers==4.19.0) (2022.6.2)\n",
            "Requirement already satisfied: packaging>=20.0 in /usr/local/lib/python3.7/dist-packages (from transformers==4.19.0) (21.3)\n",
            "Requirement already satisfied: tqdm>=4.27 in /usr/local/lib/python3.7/dist-packages (from transformers==4.19.0) (4.64.1)\n",
            "Requirement already satisfied: numpy>=1.17 in /usr/local/lib/python3.7/dist-packages (from transformers==4.19.0) (1.21.6)\n",
            "Collecting huggingface-hub<1.0,>=0.1.0\n",
            "  Downloading huggingface_hub-0.11.0-py3-none-any.whl (182 kB)\n",
            "\u001b[K     |████████████████████████████████| 182 kB 65.4 MB/s \n",
            "\u001b[?25hCollecting tokenizers!=0.11.3,<0.13,>=0.11.1\n",
            "  Downloading tokenizers-0.12.1-cp37-cp37m-manylinux_2_12_x86_64.manylinux2010_x86_64.whl (6.6 MB)\n",
            "\u001b[K     |████████████████████████████████| 6.6 MB 46.9 MB/s \n",
            "\u001b[?25hRequirement already satisfied: typing-extensions>=3.7.4.3 in /usr/local/lib/python3.7/dist-packages (from huggingface-hub<1.0,>=0.1.0->transformers==4.19.0) (4.1.1)\n",
            "Requirement already satisfied: pyparsing!=3.0.5,>=2.0.2 in /usr/local/lib/python3.7/dist-packages (from packaging>=20.0->transformers==4.19.0) (3.0.9)\n",
            "Requirement already satisfied: zipp>=0.5 in /usr/local/lib/python3.7/dist-packages (from importlib-metadata->transformers==4.19.0) (3.10.0)\n",
            "Requirement already satisfied: urllib3!=1.25.0,!=1.25.1,<1.26,>=1.21.1 in /usr/local/lib/python3.7/dist-packages (from requests->transformers==4.19.0) (1.24.3)\n",
            "Requirement already satisfied: certifi>=2017.4.17 in /usr/local/lib/python3.7/dist-packages (from requests->transformers==4.19.0) (2022.9.24)\n",
            "Requirement already satisfied: idna<3,>=2.5 in /usr/local/lib/python3.7/dist-packages (from requests->transformers==4.19.0) (2.10)\n",
            "Requirement already satisfied: chardet<4,>=3.0.2 in /usr/local/lib/python3.7/dist-packages (from requests->transformers==4.19.0) (3.0.4)\n",
            "Installing collected packages: tokenizers, huggingface-hub, transformers\n",
            "Successfully installed huggingface-hub-0.11.0 tokenizers-0.12.1 transformers-4.19.0\n",
            "Looking in indexes: https://pypi.org/simple, https://us-python.pkg.dev/colab-wheels/public/simple/\n",
            "Requirement already satisfied: tqdm in /usr/local/lib/python3.7/dist-packages (from -r requirements.txt (line 1)) (4.64.1)\n",
            "Collecting rotary_embedding_torch\n",
            "  Downloading rotary_embedding_torch-0.1.5-py3-none-any.whl (4.1 kB)\n",
            "Requirement already satisfied: transformers in /usr/local/lib/python3.7/dist-packages (from -r requirements.txt (line 3)) (4.19.0)\n",
            "Requirement already satisfied: tokenizers in /usr/local/lib/python3.7/dist-packages (from -r requirements.txt (line 4)) (0.12.1)\n",
            "Requirement already satisfied: inflect in /usr/local/lib/python3.7/dist-packages (from -r requirements.txt (line 5)) (2.1.0)\n",
            "Collecting progressbar\n",
            "  Downloading progressbar-2.5.tar.gz (10 kB)\n",
            "Collecting einops\n",
            "  Downloading einops-0.6.0-py3-none-any.whl (41 kB)\n",
            "\u001b[K     |████████████████████████████████| 41 kB 540 kB/s \n",
            "\u001b[?25hCollecting unidecode\n",
            "  Downloading Unidecode-1.3.6-py3-none-any.whl (235 kB)\n",
            "\u001b[K     |████████████████████████████████| 235 kB 7.9 MB/s \n",
            "\u001b[?25hRequirement already satisfied: scipy in /usr/local/lib/python3.7/dist-packages (from -r requirements.txt (line 9)) (1.7.3)\n",
            "Requirement already satisfied: librosa in /usr/local/lib/python3.7/dist-packages (from -r requirements.txt (line 10)) (0.8.1)\n",
            "Collecting numba==0.48.0\n",
            "  Downloading numba-0.48.0-1-cp37-cp37m-manylinux2014_x86_64.whl (3.5 MB)\n",
            "\u001b[K     |████████████████████████████████| 3.5 MB 58.7 MB/s \n",
            "\u001b[?25hCollecting ffmpeg\n",
            "  Downloading ffmpeg-1.4.tar.gz (5.1 kB)\n",
            "Requirement already satisfied: setuptools in /usr/local/lib/python3.7/dist-packages (from numba==0.48.0->-r requirements.txt (line 11)) (57.4.0)\n",
            "Collecting llvmlite<0.32.0,>=0.31.0dev0\n",
            "  Downloading llvmlite-0.31.0-cp37-cp37m-manylinux1_x86_64.whl (20.2 MB)\n",
            "\u001b[K     |████████████████████████████████| 20.2 MB 1.2 MB/s \n",
            "\u001b[?25hRequirement already satisfied: numpy>=1.15 in /usr/local/lib/python3.7/dist-packages (from numba==0.48.0->-r requirements.txt (line 11)) (1.21.6)\n",
            "Requirement already satisfied: torch>=1.6 in /usr/local/lib/python3.7/dist-packages (from rotary_embedding_torch->-r requirements.txt (line 2)) (1.12.1+cu113)\n",
            "Requirement already satisfied: typing-extensions in /usr/local/lib/python3.7/dist-packages (from torch>=1.6->rotary_embedding_torch->-r requirements.txt (line 2)) (4.1.1)\n",
            "Requirement already satisfied: pyyaml>=5.1 in /usr/local/lib/python3.7/dist-packages (from transformers->-r requirements.txt (line 3)) (6.0)\n",
            "Requirement already satisfied: regex!=2019.12.17 in /usr/local/lib/python3.7/dist-packages (from transformers->-r requirements.txt (line 3)) (2022.6.2)\n",
            "Requirement already satisfied: requests in /usr/local/lib/python3.7/dist-packages (from transformers->-r requirements.txt (line 3)) (2.23.0)\n",
            "Requirement already satisfied: filelock in /usr/local/lib/python3.7/dist-packages (from transformers->-r requirements.txt (line 3)) (3.8.0)\n",
            "Requirement already satisfied: importlib-metadata in /usr/local/lib/python3.7/dist-packages (from transformers->-r requirements.txt (line 3)) (4.13.0)\n",
            "Requirement already satisfied: huggingface-hub<1.0,>=0.1.0 in /usr/local/lib/python3.7/dist-packages (from transformers->-r requirements.txt (line 3)) (0.11.0)\n",
            "Requirement already satisfied: packaging>=20.0 in /usr/local/lib/python3.7/dist-packages (from transformers->-r requirements.txt (line 3)) (21.3)\n",
            "Requirement already satisfied: pyparsing!=3.0.5,>=2.0.2 in /usr/local/lib/python3.7/dist-packages (from packaging>=20.0->transformers->-r requirements.txt (line 3)) (3.0.9)\n",
            "Requirement already satisfied: decorator>=3.0.0 in /usr/local/lib/python3.7/dist-packages (from librosa->-r requirements.txt (line 10)) (4.4.2)\n",
            "Requirement already satisfied: scikit-learn!=0.19.0,>=0.14.0 in /usr/local/lib/python3.7/dist-packages (from librosa->-r requirements.txt (line 10)) (1.0.2)\n",
            "Requirement already satisfied: joblib>=0.14 in /usr/local/lib/python3.7/dist-packages (from librosa->-r requirements.txt (line 10)) (1.2.0)\n",
            "Requirement already satisfied: soundfile>=0.10.2 in /usr/local/lib/python3.7/dist-packages (from librosa->-r requirements.txt (line 10)) (0.11.0)\n",
            "Requirement already satisfied: audioread>=2.0.0 in /usr/local/lib/python3.7/dist-packages (from librosa->-r requirements.txt (line 10)) (3.0.0)\n",
            "Requirement already satisfied: resampy>=0.2.2 in /usr/local/lib/python3.7/dist-packages (from librosa->-r requirements.txt (line 10)) (0.4.2)\n",
            "Requirement already satisfied: pooch>=1.0 in /usr/local/lib/python3.7/dist-packages (from librosa->-r requirements.txt (line 10)) (1.6.0)\n",
            "Requirement already satisfied: appdirs>=1.3.0 in /usr/local/lib/python3.7/dist-packages (from pooch>=1.0->librosa->-r requirements.txt (line 10)) (1.4.4)\n",
            "Requirement already satisfied: urllib3!=1.25.0,!=1.25.1,<1.26,>=1.21.1 in /usr/local/lib/python3.7/dist-packages (from requests->transformers->-r requirements.txt (line 3)) (1.24.3)\n",
            "Requirement already satisfied: certifi>=2017.4.17 in /usr/local/lib/python3.7/dist-packages (from requests->transformers->-r requirements.txt (line 3)) (2022.9.24)\n",
            "Requirement already satisfied: chardet<4,>=3.0.2 in /usr/local/lib/python3.7/dist-packages (from requests->transformers->-r requirements.txt (line 3)) (3.0.4)\n",
            "Requirement already satisfied: idna<3,>=2.5 in /usr/local/lib/python3.7/dist-packages (from requests->transformers->-r requirements.txt (line 3)) (2.10)\n",
            "Collecting resampy>=0.2.2\n",
            "  Downloading resampy-0.4.1-py3-none-any.whl (3.1 MB)\n",
            "\u001b[K     |████████████████████████████████| 3.1 MB 53.6 MB/s \n",
            "\u001b[?25h  Downloading resampy-0.4.0-py3-none-any.whl (3.1 MB)\n",
            "\u001b[K     |████████████████████████████████| 3.1 MB 52.4 MB/s \n",
            "\u001b[?25h  Downloading resampy-0.3.1-py3-none-any.whl (3.1 MB)\n",
            "\u001b[K     |████████████████████████████████| 3.1 MB 43.9 MB/s \n",
            "\u001b[?25hRequirement already satisfied: threadpoolctl>=2.0.0 in /usr/local/lib/python3.7/dist-packages (from scikit-learn!=0.19.0,>=0.14.0->librosa->-r requirements.txt (line 10)) (3.1.0)\n",
            "Requirement already satisfied: cffi>=1.0 in /usr/local/lib/python3.7/dist-packages (from soundfile>=0.10.2->librosa->-r requirements.txt (line 10)) (1.15.1)\n",
            "Requirement already satisfied: pycparser in /usr/local/lib/python3.7/dist-packages (from cffi>=1.0->soundfile>=0.10.2->librosa->-r requirements.txt (line 10)) (2.21)\n",
            "Requirement already satisfied: zipp>=0.5 in /usr/local/lib/python3.7/dist-packages (from importlib-metadata->transformers->-r requirements.txt (line 3)) (3.10.0)\n",
            "Building wheels for collected packages: progressbar, ffmpeg\n",
            "  Building wheel for progressbar (setup.py) ... \u001b[?25l\u001b[?25hdone\n",
            "  Created wheel for progressbar: filename=progressbar-2.5-py3-none-any.whl size=12082 sha256=7f297678c6e62c4a650254605c83fdec0fefbbbfcf5a090b1521e8801e9ea42d\n",
            "  Stored in directory: /root/.cache/pip/wheels/f0/fd/1f/3e35ed57e94cd8ced38dd46771f1f0f94f65fec548659ed855\n",
            "  Building wheel for ffmpeg (setup.py) ... \u001b[?25l\u001b[?25hdone\n",
            "  Created wheel for ffmpeg: filename=ffmpeg-1.4-py3-none-any.whl size=6085 sha256=c61ecfbc6962a548069e3159248a0a3dbf9e7d29f39c47211dc1b7724967b2cf\n",
            "  Stored in directory: /root/.cache/pip/wheels/64/80/6e/caa3e16deb0267c3cbfd36862058a724144e19fdb9eb03af0f\n",
            "Successfully built progressbar ffmpeg\n",
            "Installing collected packages: llvmlite, numba, resampy, einops, unidecode, rotary-embedding-torch, progressbar, ffmpeg\n",
            "  Attempting uninstall: llvmlite\n",
            "    Found existing installation: llvmlite 0.39.1\n",
            "    Uninstalling llvmlite-0.39.1:\n",
            "      Successfully uninstalled llvmlite-0.39.1\n",
            "  Attempting uninstall: numba\n",
            "    Found existing installation: numba 0.56.4\n",
            "    Uninstalling numba-0.56.4:\n",
            "      Successfully uninstalled numba-0.56.4\n",
            "  Attempting uninstall: resampy\n",
            "    Found existing installation: resampy 0.4.2\n",
            "    Uninstalling resampy-0.4.2:\n",
            "      Successfully uninstalled resampy-0.4.2\n",
            "Successfully installed einops-0.6.0 ffmpeg-1.4 llvmlite-0.31.0 numba-0.48.0 progressbar-2.5 resampy-0.3.1 rotary-embedding-torch-0.1.5 unidecode-1.3.6\n",
            "running install\n",
            "running bdist_egg\n",
            "running egg_info\n",
            "creating TorToiSe.egg-info\n",
            "writing TorToiSe.egg-info/PKG-INFO\n",
            "writing dependency_links to TorToiSe.egg-info/dependency_links.txt\n",
            "writing requirements to TorToiSe.egg-info/requires.txt\n",
            "writing top-level names to TorToiSe.egg-info/top_level.txt\n",
            "writing manifest file 'TorToiSe.egg-info/SOURCES.txt'\n",
            "adding license file 'LICENSE'\n",
            "writing manifest file 'TorToiSe.egg-info/SOURCES.txt'\n",
            "installing library code to build/bdist.linux-x86_64/egg\n",
            "running install_lib\n",
            "running build_py\n",
            "creating build\n",
            "creating build/lib\n",
            "creating build/lib/tortoise\n",
            "copying tortoise/api.py -> build/lib/tortoise\n",
            "copying tortoise/do_tts.py -> build/lib/tortoise\n",
            "copying tortoise/get_conditioning_latents.py -> build/lib/tortoise\n",
            "copying tortoise/eval.py -> build/lib/tortoise\n",
            "copying tortoise/is_this_from_tortoise.py -> build/lib/tortoise\n",
            "copying tortoise/read.py -> build/lib/tortoise\n",
            "copying tortoise/__init__.py -> build/lib/tortoise\n",
            "creating build/lib/tortoise/models\n",
            "copying tortoise/models/classifier.py -> build/lib/tortoise/models\n",
            "copying tortoise/models/autoregressive.py -> build/lib/tortoise/models\n",
            "copying tortoise/models/random_latent_generator.py -> build/lib/tortoise/models\n",
            "copying tortoise/models/arch_util.py -> build/lib/tortoise/models\n",
            "copying tortoise/models/vocoder.py -> build/lib/tortoise/models\n",
            "copying tortoise/models/clvp.py -> build/lib/tortoise/models\n",
            "copying tortoise/models/diffusion_decoder.py -> build/lib/tortoise/models\n",
            "copying tortoise/models/cvvp.py -> build/lib/tortoise/models\n",
            "copying tortoise/models/xtransformers.py -> build/lib/tortoise/models\n",
            "copying tortoise/models/transformer.py -> build/lib/tortoise/models\n",
            "copying tortoise/models/__init__.py -> build/lib/tortoise/models\n",
            "creating build/lib/tortoise/utils\n",
            "copying tortoise/utils/audio.py -> build/lib/tortoise/utils\n",
            "copying tortoise/utils/stft.py -> build/lib/tortoise/utils\n",
            "copying tortoise/utils/diffusion.py -> build/lib/tortoise/utils\n",
            "copying tortoise/utils/typical_sampling.py -> build/lib/tortoise/utils\n",
            "copying tortoise/utils/wav2vec_alignment.py -> build/lib/tortoise/utils\n",
            "copying tortoise/utils/text.py -> build/lib/tortoise/utils\n",
            "copying tortoise/utils/tokenizer.py -> build/lib/tortoise/utils\n",
            "copying tortoise/utils/samples_generator.py -> build/lib/tortoise/utils\n",
            "copying tortoise/utils/__init__.py -> build/lib/tortoise/utils\n",
            "creating build/bdist.linux-x86_64\n",
            "creating build/bdist.linux-x86_64/egg\n",
            "creating build/bdist.linux-x86_64/egg/tortoise\n",
            "creating build/bdist.linux-x86_64/egg/tortoise/models\n",
            "copying build/lib/tortoise/models/classifier.py -> build/bdist.linux-x86_64/egg/tortoise/models\n",
            "copying build/lib/tortoise/models/autoregressive.py -> build/bdist.linux-x86_64/egg/tortoise/models\n",
            "copying build/lib/tortoise/models/random_latent_generator.py -> build/bdist.linux-x86_64/egg/tortoise/models\n",
            "copying build/lib/tortoise/models/arch_util.py -> build/bdist.linux-x86_64/egg/tortoise/models\n",
            "copying build/lib/tortoise/models/vocoder.py -> build/bdist.linux-x86_64/egg/tortoise/models\n",
            "copying build/lib/tortoise/models/clvp.py -> build/bdist.linux-x86_64/egg/tortoise/models\n",
            "copying build/lib/tortoise/models/diffusion_decoder.py -> build/bdist.linux-x86_64/egg/tortoise/models\n",
            "copying build/lib/tortoise/models/cvvp.py -> build/bdist.linux-x86_64/egg/tortoise/models\n",
            "copying build/lib/tortoise/models/xtransformers.py -> build/bdist.linux-x86_64/egg/tortoise/models\n",
            "copying build/lib/tortoise/models/transformer.py -> build/bdist.linux-x86_64/egg/tortoise/models\n",
            "copying build/lib/tortoise/models/__init__.py -> build/bdist.linux-x86_64/egg/tortoise/models\n",
            "copying build/lib/tortoise/api.py -> build/bdist.linux-x86_64/egg/tortoise\n",
            "copying build/lib/tortoise/do_tts.py -> build/bdist.linux-x86_64/egg/tortoise\n",
            "copying build/lib/tortoise/get_conditioning_latents.py -> build/bdist.linux-x86_64/egg/tortoise\n",
            "creating build/bdist.linux-x86_64/egg/tortoise/utils\n",
            "copying build/lib/tortoise/utils/audio.py -> build/bdist.linux-x86_64/egg/tortoise/utils\n",
            "copying build/lib/tortoise/utils/stft.py -> build/bdist.linux-x86_64/egg/tortoise/utils\n",
            "copying build/lib/tortoise/utils/diffusion.py -> build/bdist.linux-x86_64/egg/tortoise/utils\n",
            "copying build/lib/tortoise/utils/typical_sampling.py -> build/bdist.linux-x86_64/egg/tortoise/utils\n",
            "copying build/lib/tortoise/utils/wav2vec_alignment.py -> build/bdist.linux-x86_64/egg/tortoise/utils\n",
            "copying build/lib/tortoise/utils/text.py -> build/bdist.linux-x86_64/egg/tortoise/utils\n",
            "copying build/lib/tortoise/utils/tokenizer.py -> build/bdist.linux-x86_64/egg/tortoise/utils\n",
            "copying build/lib/tortoise/utils/samples_generator.py -> build/bdist.linux-x86_64/egg/tortoise/utils\n",
            "copying build/lib/tortoise/utils/__init__.py -> build/bdist.linux-x86_64/egg/tortoise/utils\n",
            "copying build/lib/tortoise/eval.py -> build/bdist.linux-x86_64/egg/tortoise\n",
            "copying build/lib/tortoise/is_this_from_tortoise.py -> build/bdist.linux-x86_64/egg/tortoise\n",
            "copying build/lib/tortoise/read.py -> build/bdist.linux-x86_64/egg/tortoise\n",
            "copying build/lib/tortoise/__init__.py -> build/bdist.linux-x86_64/egg/tortoise\n",
            "byte-compiling build/bdist.linux-x86_64/egg/tortoise/models/classifier.py to classifier.cpython-37.pyc\n",
            "byte-compiling build/bdist.linux-x86_64/egg/tortoise/models/autoregressive.py to autoregressive.cpython-37.pyc\n",
            "byte-compiling build/bdist.linux-x86_64/egg/tortoise/models/random_latent_generator.py to random_latent_generator.cpython-37.pyc\n",
            "byte-compiling build/bdist.linux-x86_64/egg/tortoise/models/arch_util.py to arch_util.cpython-37.pyc\n",
            "byte-compiling build/bdist.linux-x86_64/egg/tortoise/models/vocoder.py to vocoder.cpython-37.pyc\n",
            "byte-compiling build/bdist.linux-x86_64/egg/tortoise/models/clvp.py to clvp.cpython-37.pyc\n",
            "byte-compiling build/bdist.linux-x86_64/egg/tortoise/models/diffusion_decoder.py to diffusion_decoder.cpython-37.pyc\n",
            "byte-compiling build/bdist.linux-x86_64/egg/tortoise/models/cvvp.py to cvvp.cpython-37.pyc\n",
            "byte-compiling build/bdist.linux-x86_64/egg/tortoise/models/xtransformers.py to xtransformers.cpython-37.pyc\n",
            "byte-compiling build/bdist.linux-x86_64/egg/tortoise/models/transformer.py to transformer.cpython-37.pyc\n",
            "byte-compiling build/bdist.linux-x86_64/egg/tortoise/models/__init__.py to __init__.cpython-37.pyc\n",
            "byte-compiling build/bdist.linux-x86_64/egg/tortoise/api.py to api.cpython-37.pyc\n",
            "byte-compiling build/bdist.linux-x86_64/egg/tortoise/do_tts.py to do_tts.cpython-37.pyc\n",
            "byte-compiling build/bdist.linux-x86_64/egg/tortoise/get_conditioning_latents.py to get_conditioning_latents.cpython-37.pyc\n",
            "byte-compiling build/bdist.linux-x86_64/egg/tortoise/utils/audio.py to audio.cpython-37.pyc\n",
            "byte-compiling build/bdist.linux-x86_64/egg/tortoise/utils/stft.py to stft.cpython-37.pyc\n",
            "byte-compiling build/bdist.linux-x86_64/egg/tortoise/utils/diffusion.py to diffusion.cpython-37.pyc\n",
            "byte-compiling build/bdist.linux-x86_64/egg/tortoise/utils/typical_sampling.py to typical_sampling.cpython-37.pyc\n",
            "byte-compiling build/bdist.linux-x86_64/egg/tortoise/utils/wav2vec_alignment.py to wav2vec_alignment.cpython-37.pyc\n",
            "byte-compiling build/bdist.linux-x86_64/egg/tortoise/utils/text.py to text.cpython-37.pyc\n",
            "byte-compiling build/bdist.linux-x86_64/egg/tortoise/utils/tokenizer.py to tokenizer.cpython-37.pyc\n",
            "byte-compiling build/bdist.linux-x86_64/egg/tortoise/utils/samples_generator.py to samples_generator.cpython-37.pyc\n",
            "byte-compiling build/bdist.linux-x86_64/egg/tortoise/utils/__init__.py to __init__.cpython-37.pyc\n",
            "byte-compiling build/bdist.linux-x86_64/egg/tortoise/eval.py to eval.cpython-37.pyc\n",
            "byte-compiling build/bdist.linux-x86_64/egg/tortoise/is_this_from_tortoise.py to is_this_from_tortoise.cpython-37.pyc\n",
            "byte-compiling build/bdist.linux-x86_64/egg/tortoise/read.py to read.cpython-37.pyc\n",
            "byte-compiling build/bdist.linux-x86_64/egg/tortoise/__init__.py to __init__.cpython-37.pyc\n",
            "creating build/bdist.linux-x86_64/egg/EGG-INFO\n",
            "copying TorToiSe.egg-info/PKG-INFO -> build/bdist.linux-x86_64/egg/EGG-INFO\n",
            "copying TorToiSe.egg-info/SOURCES.txt -> build/bdist.linux-x86_64/egg/EGG-INFO\n",
            "copying TorToiSe.egg-info/dependency_links.txt -> build/bdist.linux-x86_64/egg/EGG-INFO\n",
            "copying TorToiSe.egg-info/requires.txt -> build/bdist.linux-x86_64/egg/EGG-INFO\n",
            "copying TorToiSe.egg-info/top_level.txt -> build/bdist.linux-x86_64/egg/EGG-INFO\n",
            "zip_safe flag not set; analyzing archive contents...\n",
            "creating dist\n",
            "creating 'dist/TorToiSe-2.3.0-py3.7.egg' and adding 'build/bdist.linux-x86_64/egg' to it\n",
            "removing 'build/bdist.linux-x86_64/egg' (and everything under it)\n",
            "Processing TorToiSe-2.3.0-py3.7.egg\n",
            "Copying TorToiSe-2.3.0-py3.7.egg to /usr/local/lib/python3.7/dist-packages\n",
            "Adding TorToiSe 2.3.0 to easy-install.pth file\n",
            "\n",
            "Installed /usr/local/lib/python3.7/dist-packages/TorToiSe-2.3.0-py3.7.egg\n",
            "Processing dependencies for TorToiSe==2.3.0\n",
            "Searching for tokenizers==0.12.1\n",
            "Best match: tokenizers 0.12.1\n",
            "Adding tokenizers 0.12.1 to easy-install.pth file\n",
            "\n",
            "Using /usr/local/lib/python3.7/dist-packages\n",
            "Searching for transformers==4.19.0\n",
            "Best match: transformers 4.19.0\n",
            "Adding transformers 4.19.0 to easy-install.pth file\n",
            "Installing transformers-cli script to /usr/local/bin\n",
            "\n",
            "Using /usr/local/lib/python3.7/dist-packages\n",
            "Searching for librosa==0.8.1\n",
            "Best match: librosa 0.8.1\n",
            "Adding librosa 0.8.1 to easy-install.pth file\n",
            "\n",
            "Using /usr/local/lib/python3.7/dist-packages\n",
            "Searching for scipy==1.7.3\n",
            "Best match: scipy 1.7.3\n",
            "Adding scipy 1.7.3 to easy-install.pth file\n",
            "\n",
            "Using /usr/local/lib/python3.7/dist-packages\n",
            "Searching for Unidecode==1.3.6\n",
            "Best match: Unidecode 1.3.6\n",
            "Adding Unidecode 1.3.6 to easy-install.pth file\n",
            "Installing unidecode script to /usr/local/bin\n",
            "\n",
            "Using /usr/local/lib/python3.7/dist-packages\n",
            "Searching for einops==0.6.0\n",
            "Best match: einops 0.6.0\n",
            "Adding einops 0.6.0 to easy-install.pth file\n",
            "\n",
            "Using /usr/local/lib/python3.7/dist-packages\n",
            "Searching for progressbar==2.5\n",
            "Best match: progressbar 2.5\n",
            "Adding progressbar 2.5 to easy-install.pth file\n",
            "\n",
            "Using /usr/local/lib/python3.7/dist-packages\n",
            "Searching for inflect==2.1.0\n",
            "Best match: inflect 2.1.0\n",
            "Adding inflect 2.1.0 to easy-install.pth file\n",
            "\n",
            "Using /usr/local/lib/python3.7/dist-packages\n",
            "Searching for rotary-embedding-torch==0.1.5\n",
            "Best match: rotary-embedding-torch 0.1.5\n",
            "Adding rotary-embedding-torch 0.1.5 to easy-install.pth file\n",
            "\n",
            "Using /usr/local/lib/python3.7/dist-packages\n",
            "Searching for tqdm==4.64.1\n",
            "Best match: tqdm 4.64.1\n",
            "Adding tqdm 4.64.1 to easy-install.pth file\n",
            "Installing tqdm script to /usr/local/bin\n",
            "\n",
            "Using /usr/local/lib/python3.7/dist-packages\n",
            "Searching for PyYAML==6.0\n",
            "Best match: PyYAML 6.0\n",
            "Adding PyYAML 6.0 to easy-install.pth file\n",
            "\n",
            "Using /usr/local/lib/python3.7/dist-packages\n",
            "Searching for filelock==3.8.0\n",
            "Best match: filelock 3.8.0\n",
            "Adding filelock 3.8.0 to easy-install.pth file\n",
            "\n",
            "Using /usr/local/lib/python3.7/dist-packages\n",
            "Searching for requests==2.23.0\n",
            "Best match: requests 2.23.0\n",
            "Adding requests 2.23.0 to easy-install.pth file\n",
            "\n",
            "Using /usr/local/lib/python3.7/dist-packages\n",
            "Searching for numpy==1.21.6\n",
            "Best match: numpy 1.21.6\n",
            "Adding numpy 1.21.6 to easy-install.pth file\n",
            "Installing f2py script to /usr/local/bin\n",
            "Installing f2py3 script to /usr/local/bin\n",
            "Installing f2py3.7 script to /usr/local/bin\n",
            "\n",
            "Using /usr/local/lib/python3.7/dist-packages\n",
            "Searching for huggingface-hub==0.11.0\n",
            "Best match: huggingface-hub 0.11.0\n",
            "Adding huggingface-hub 0.11.0 to easy-install.pth file\n",
            "Installing huggingface-cli script to /usr/local/bin\n",
            "\n",
            "Using /usr/local/lib/python3.7/dist-packages\n",
            "Searching for regex==2022.6.2\n",
            "Best match: regex 2022.6.2\n",
            "Adding regex 2022.6.2 to easy-install.pth file\n",
            "\n",
            "Using /usr/local/lib/python3.7/dist-packages\n",
            "Searching for packaging==21.3\n",
            "Best match: packaging 21.3\n",
            "Adding packaging 21.3 to easy-install.pth file\n",
            "\n",
            "Using /usr/local/lib/python3.7/dist-packages\n",
            "Searching for importlib-metadata==4.13.0\n",
            "Best match: importlib-metadata 4.13.0\n",
            "Adding importlib-metadata 4.13.0 to easy-install.pth file\n",
            "\n",
            "Using /usr/local/lib/python3.7/dist-packages\n",
            "Searching for decorator==4.4.2\n",
            "Best match: decorator 4.4.2\n",
            "Adding decorator 4.4.2 to easy-install.pth file\n",
            "\n",
            "Using /usr/local/lib/python3.7/dist-packages\n",
            "Searching for scikit-learn==1.0.2\n",
            "Best match: scikit-learn 1.0.2\n",
            "Adding scikit-learn 1.0.2 to easy-install.pth file\n",
            "\n",
            "Using /usr/local/lib/python3.7/dist-packages\n",
            "Searching for numba==0.48.0\n",
            "Best match: numba 0.48.0\n",
            "Adding numba 0.48.0 to easy-install.pth file\n",
            "\n",
            "Using /usr/local/lib/python3.7/dist-packages\n",
            "Searching for soundfile==0.11.0\n",
            "Best match: soundfile 0.11.0\n",
            "Adding soundfile 0.11.0 to easy-install.pth file\n",
            "\n",
            "Using /usr/local/lib/python3.7/dist-packages\n",
            "Searching for resampy==0.3.1\n",
            "Best match: resampy 0.3.1\n",
            "Adding resampy 0.3.1 to easy-install.pth file\n",
            "\n",
            "Using /usr/local/lib/python3.7/dist-packages\n",
            "Searching for joblib==1.2.0\n",
            "Best match: joblib 1.2.0\n",
            "Adding joblib 1.2.0 to easy-install.pth file\n",
            "\n",
            "Using /usr/local/lib/python3.7/dist-packages\n",
            "Searching for audioread==3.0.0\n",
            "Best match: audioread 3.0.0\n",
            "Adding audioread 3.0.0 to easy-install.pth file\n",
            "\n",
            "Using /usr/local/lib/python3.7/dist-packages\n",
            "Searching for pooch==1.6.0\n",
            "Best match: pooch 1.6.0\n",
            "Adding pooch 1.6.0 to easy-install.pth file\n",
            "\n",
            "Using /usr/local/lib/python3.7/dist-packages\n",
            "Searching for torch==1.12.1+cu113\n",
            "Best match: torch 1.12.1+cu113\n",
            "Adding torch 1.12.1+cu113 to easy-install.pth file\n",
            "Installing convert-caffe2-to-onnx script to /usr/local/bin\n",
            "Installing convert-onnx-to-caffe2 script to /usr/local/bin\n",
            "Installing torchrun script to /usr/local/bin\n",
            "\n",
            "Using /usr/local/lib/python3.7/dist-packages\n",
            "Searching for idna==2.10\n",
            "Best match: idna 2.10\n",
            "Adding idna 2.10 to easy-install.pth file\n",
            "\n",
            "Using /usr/local/lib/python3.7/dist-packages\n",
            "Searching for certifi==2022.9.24\n",
            "Best match: certifi 2022.9.24\n",
            "Adding certifi 2022.9.24 to easy-install.pth file\n",
            "\n",
            "Using /usr/local/lib/python3.7/dist-packages\n",
            "Searching for chardet==3.0.4\n",
            "Best match: chardet 3.0.4\n",
            "Adding chardet 3.0.4 to easy-install.pth file\n",
            "Installing chardetect script to /usr/local/bin\n",
            "\n",
            "Using /usr/local/lib/python3.7/dist-packages\n",
            "Searching for urllib3==1.24.3\n",
            "Best match: urllib3 1.24.3\n",
            "Adding urllib3 1.24.3 to easy-install.pth file\n",
            "\n",
            "Using /usr/local/lib/python3.7/dist-packages\n",
            "Searching for typing-extensions==4.1.1\n",
            "Best match: typing-extensions 4.1.1\n",
            "Adding typing-extensions 4.1.1 to easy-install.pth file\n",
            "\n",
            "Using /usr/local/lib/python3.7/dist-packages\n",
            "Searching for pyparsing==3.0.9\n",
            "Best match: pyparsing 3.0.9\n",
            "Adding pyparsing 3.0.9 to easy-install.pth file\n",
            "\n",
            "Using /usr/local/lib/python3.7/dist-packages\n",
            "Searching for zipp==3.10.0\n",
            "Best match: zipp 3.10.0\n",
            "Adding zipp 3.10.0 to easy-install.pth file\n",
            "\n",
            "Using /usr/local/lib/python3.7/dist-packages\n",
            "Searching for threadpoolctl==3.1.0\n",
            "Best match: threadpoolctl 3.1.0\n",
            "Adding threadpoolctl 3.1.0 to easy-install.pth file\n",
            "\n",
            "Using /usr/local/lib/python3.7/dist-packages\n",
            "Searching for setuptools==57.4.0\n",
            "Best match: setuptools 57.4.0\n",
            "Adding setuptools 57.4.0 to easy-install.pth file\n",
            "\n",
            "Using /usr/local/lib/python3.7/dist-packages\n",
            "Searching for llvmlite==0.31.0\n",
            "Best match: llvmlite 0.31.0\n",
            "Adding llvmlite 0.31.0 to easy-install.pth file\n",
            "\n",
            "Using /usr/local/lib/python3.7/dist-packages\n",
            "Searching for cffi==1.15.1\n",
            "Best match: cffi 1.15.1\n",
            "Adding cffi 1.15.1 to easy-install.pth file\n",
            "\n",
            "Using /usr/local/lib/python3.7/dist-packages\n",
            "Searching for appdirs==1.4.4\n",
            "Best match: appdirs 1.4.4\n",
            "Adding appdirs 1.4.4 to easy-install.pth file\n",
            "\n",
            "Using /usr/local/lib/python3.7/dist-packages\n",
            "Searching for pycparser==2.21\n",
            "Best match: pycparser 2.21\n",
            "Adding pycparser 2.21 to easy-install.pth file\n",
            "\n",
            "Using /usr/local/lib/python3.7/dist-packages\n",
            "Finished processing dependencies for TorToiSe==2.3.0\n"
          ]
        }
      ]
    },
    {
      "cell_type": "code",
      "execution_count": null,
      "metadata": {
        "colab": {
          "base_uri": "https://localhost:8080/",
          "height": 294
        },
        "id": "2OhT0w2uT4rQ",
        "outputId": "12a6362e-907d-4aef-cf8e-87327686b043"
      },
      "outputs": [
        {
          "output_type": "error",
          "ename": "KeyboardInterrupt",
          "evalue": "ignored",
          "traceback": [
            "\u001b[0;31m---------------------------------------------------------------------------\u001b[0m",
            "\u001b[0;31mKeyboardInterrupt\u001b[0m                         Traceback (most recent call last)",
            "\u001b[0;32m<ipython-input-8-c7b54ad2663c>\u001b[0m in \u001b[0;36m<module>\u001b[0;34m\u001b[0m\n\u001b[1;32m      6\u001b[0m \u001b[0;32mimport\u001b[0m \u001b[0mIPython\u001b[0m\u001b[0;34m\u001b[0m\u001b[0;34m\u001b[0m\u001b[0m\n\u001b[1;32m      7\u001b[0m \u001b[0;34m\u001b[0m\u001b[0m\n\u001b[0;32m----> 8\u001b[0;31m \u001b[0;32mfrom\u001b[0m \u001b[0mtortoise\u001b[0m\u001b[0;34m.\u001b[0m\u001b[0mapi\u001b[0m \u001b[0;32mimport\u001b[0m \u001b[0mTextToSpeech\u001b[0m\u001b[0;34m\u001b[0m\u001b[0;34m\u001b[0m\u001b[0m\n\u001b[0m\u001b[1;32m      9\u001b[0m \u001b[0;32mfrom\u001b[0m \u001b[0mtortoise\u001b[0m\u001b[0;34m.\u001b[0m\u001b[0mutils\u001b[0m\u001b[0;34m.\u001b[0m\u001b[0maudio\u001b[0m \u001b[0;32mimport\u001b[0m \u001b[0mload_audio\u001b[0m\u001b[0;34m,\u001b[0m \u001b[0mload_voice\u001b[0m\u001b[0;34m,\u001b[0m \u001b[0mload_voices\u001b[0m\u001b[0;34m\u001b[0m\u001b[0;34m\u001b[0m\u001b[0m\n\u001b[1;32m     10\u001b[0m \u001b[0;34m\u001b[0m\u001b[0m\n",
            "\u001b[0;32m/content/tortoise-tts/tortoise/api.py\u001b[0m in \u001b[0;36m<module>\u001b[0;34m\u001b[0m\n\u001b[1;32m     19\u001b[0m \u001b[0;32mfrom\u001b[0m \u001b[0mtortoise\u001b[0m\u001b[0;34m.\u001b[0m\u001b[0mmodels\u001b[0m\u001b[0;34m.\u001b[0m\u001b[0mrandom_latent_generator\u001b[0m \u001b[0;32mimport\u001b[0m \u001b[0mRandomLatentConverter\u001b[0m\u001b[0;34m\u001b[0m\u001b[0;34m\u001b[0m\u001b[0m\n\u001b[1;32m     20\u001b[0m \u001b[0;32mfrom\u001b[0m \u001b[0mtortoise\u001b[0m\u001b[0;34m.\u001b[0m\u001b[0mmodels\u001b[0m\u001b[0;34m.\u001b[0m\u001b[0mvocoder\u001b[0m \u001b[0;32mimport\u001b[0m \u001b[0mUnivNetGenerator\u001b[0m\u001b[0;34m\u001b[0m\u001b[0;34m\u001b[0m\u001b[0m\n\u001b[0;32m---> 21\u001b[0;31m \u001b[0;32mfrom\u001b[0m \u001b[0mtortoise\u001b[0m\u001b[0;34m.\u001b[0m\u001b[0mutils\u001b[0m\u001b[0;34m.\u001b[0m\u001b[0maudio\u001b[0m \u001b[0;32mimport\u001b[0m \u001b[0mwav_to_univnet_mel\u001b[0m\u001b[0;34m,\u001b[0m \u001b[0mdenormalize_tacotron_mel\u001b[0m\u001b[0;34m\u001b[0m\u001b[0;34m\u001b[0m\u001b[0m\n\u001b[0m\u001b[1;32m     22\u001b[0m \u001b[0;32mfrom\u001b[0m \u001b[0mtortoise\u001b[0m\u001b[0;34m.\u001b[0m\u001b[0mutils\u001b[0m\u001b[0;34m.\u001b[0m\u001b[0mdiffusion\u001b[0m \u001b[0;32mimport\u001b[0m \u001b[0mSpacedDiffusion\u001b[0m\u001b[0;34m,\u001b[0m \u001b[0mspace_timesteps\u001b[0m\u001b[0;34m,\u001b[0m \u001b[0mget_named_beta_schedule\u001b[0m\u001b[0;34m\u001b[0m\u001b[0;34m\u001b[0m\u001b[0m\n\u001b[1;32m     23\u001b[0m \u001b[0;32mfrom\u001b[0m \u001b[0mtortoise\u001b[0m\u001b[0;34m.\u001b[0m\u001b[0mutils\u001b[0m\u001b[0;34m.\u001b[0m\u001b[0mtokenizer\u001b[0m \u001b[0;32mimport\u001b[0m \u001b[0mVoiceBpeTokenizer\u001b[0m\u001b[0;34m\u001b[0m\u001b[0;34m\u001b[0m\u001b[0m\n",
            "\u001b[0;32m/content/tortoise-tts/tortoise/utils/audio.py\u001b[0m in \u001b[0;36m<module>\u001b[0;34m\u001b[0m\n\u001b[1;32m      2\u001b[0m \u001b[0;32mfrom\u001b[0m \u001b[0mglob\u001b[0m \u001b[0;32mimport\u001b[0m \u001b[0mglob\u001b[0m\u001b[0;34m\u001b[0m\u001b[0;34m\u001b[0m\u001b[0m\n\u001b[1;32m      3\u001b[0m \u001b[0;34m\u001b[0m\u001b[0m\n\u001b[0;32m----> 4\u001b[0;31m \u001b[0;32mimport\u001b[0m \u001b[0mlibrosa\u001b[0m\u001b[0;34m\u001b[0m\u001b[0;34m\u001b[0m\u001b[0m\n\u001b[0m\u001b[1;32m      5\u001b[0m \u001b[0;32mimport\u001b[0m \u001b[0mtorch\u001b[0m\u001b[0;34m\u001b[0m\u001b[0;34m\u001b[0m\u001b[0m\n\u001b[1;32m      6\u001b[0m \u001b[0;32mimport\u001b[0m \u001b[0mtorchaudio\u001b[0m\u001b[0;34m\u001b[0m\u001b[0;34m\u001b[0m\u001b[0m\n",
            "\u001b[0;32m/usr/local/lib/python3.7/dist-packages/librosa/__init__.py\u001b[0m in \u001b[0;36m<module>\u001b[0;34m\u001b[0m\n\u001b[1;32m    209\u001b[0m \u001b[0;31m# And all the librosa sub-modules\u001b[0m\u001b[0;34m\u001b[0m\u001b[0;34m\u001b[0m\u001b[0;34m\u001b[0m\u001b[0m\n\u001b[1;32m    210\u001b[0m \u001b[0;32mfrom\u001b[0m \u001b[0;34m.\u001b[0m\u001b[0m_cache\u001b[0m \u001b[0;32mimport\u001b[0m \u001b[0mcache\u001b[0m\u001b[0;34m\u001b[0m\u001b[0;34m\u001b[0m\u001b[0m\n\u001b[0;32m--> 211\u001b[0;31m \u001b[0;32mfrom\u001b[0m \u001b[0;34m.\u001b[0m \u001b[0;32mimport\u001b[0m \u001b[0mcore\u001b[0m\u001b[0;34m\u001b[0m\u001b[0;34m\u001b[0m\u001b[0m\n\u001b[0m\u001b[1;32m    212\u001b[0m \u001b[0;32mfrom\u001b[0m \u001b[0;34m.\u001b[0m \u001b[0;32mimport\u001b[0m \u001b[0mbeat\u001b[0m\u001b[0;34m\u001b[0m\u001b[0;34m\u001b[0m\u001b[0m\n\u001b[1;32m    213\u001b[0m \u001b[0;32mfrom\u001b[0m \u001b[0;34m.\u001b[0m \u001b[0;32mimport\u001b[0m \u001b[0mdecompose\u001b[0m\u001b[0;34m\u001b[0m\u001b[0;34m\u001b[0m\u001b[0m\n",
            "\u001b[0;32m/usr/local/lib/python3.7/dist-packages/librosa/core/__init__.py\u001b[0m in \u001b[0;36m<module>\u001b[0;34m\u001b[0m\n\u001b[1;32m      4\u001b[0m \u001b[0;34m\u001b[0m\u001b[0m\n\u001b[1;32m      5\u001b[0m \u001b[0;32mfrom\u001b[0m \u001b[0;34m.\u001b[0m\u001b[0mconvert\u001b[0m \u001b[0;32mimport\u001b[0m \u001b[0;34m*\u001b[0m  \u001b[0;31m# pylint: disable=wildcard-import\u001b[0m\u001b[0;34m\u001b[0m\u001b[0;34m\u001b[0m\u001b[0m\n\u001b[0;32m----> 6\u001b[0;31m \u001b[0;32mfrom\u001b[0m \u001b[0;34m.\u001b[0m\u001b[0maudio\u001b[0m \u001b[0;32mimport\u001b[0m \u001b[0;34m*\u001b[0m  \u001b[0;31m# pylint: disable=wildcard-import\u001b[0m\u001b[0;34m\u001b[0m\u001b[0;34m\u001b[0m\u001b[0m\n\u001b[0m\u001b[1;32m      7\u001b[0m \u001b[0;32mfrom\u001b[0m \u001b[0;34m.\u001b[0m\u001b[0mspectrum\u001b[0m \u001b[0;32mimport\u001b[0m \u001b[0;34m*\u001b[0m  \u001b[0;31m# pylint: disable=wildcard-import\u001b[0m\u001b[0;34m\u001b[0m\u001b[0;34m\u001b[0m\u001b[0m\n\u001b[1;32m      8\u001b[0m \u001b[0;32mfrom\u001b[0m \u001b[0;34m.\u001b[0m\u001b[0mpitch\u001b[0m \u001b[0;32mimport\u001b[0m \u001b[0;34m*\u001b[0m  \u001b[0;31m# pylint: disable=wildcard-import\u001b[0m\u001b[0;34m\u001b[0m\u001b[0;34m\u001b[0m\u001b[0m\n",
            "\u001b[0;32m/usr/local/lib/python3.7/dist-packages/librosa/core/audio.py\u001b[0m in \u001b[0;36m<module>\u001b[0;34m\u001b[0m\n\u001b[1;32m      9\u001b[0m \u001b[0;32mimport\u001b[0m \u001b[0maudioread\u001b[0m\u001b[0;34m\u001b[0m\u001b[0;34m\u001b[0m\u001b[0m\n\u001b[1;32m     10\u001b[0m \u001b[0;32mimport\u001b[0m \u001b[0mnumpy\u001b[0m \u001b[0;32mas\u001b[0m \u001b[0mnp\u001b[0m\u001b[0;34m\u001b[0m\u001b[0;34m\u001b[0m\u001b[0m\n\u001b[0;32m---> 11\u001b[0;31m \u001b[0;32mimport\u001b[0m \u001b[0mscipy\u001b[0m\u001b[0;34m.\u001b[0m\u001b[0msignal\u001b[0m\u001b[0;34m\u001b[0m\u001b[0;34m\u001b[0m\u001b[0m\n\u001b[0m\u001b[1;32m     12\u001b[0m \u001b[0;32mimport\u001b[0m \u001b[0mresampy\u001b[0m\u001b[0;34m\u001b[0m\u001b[0;34m\u001b[0m\u001b[0m\n\u001b[1;32m     13\u001b[0m \u001b[0;34m\u001b[0m\u001b[0m\n",
            "\u001b[0;32m/usr/local/lib/python3.7/dist-packages/scipy/signal/__init__.py\u001b[0m in \u001b[0;36m<module>\u001b[0;34m\u001b[0m\n\u001b[1;32m    290\u001b[0m \u001b[0;34m\u001b[0m\u001b[0m\n\u001b[1;32m    291\u001b[0m \"\"\"\n\u001b[0;32m--> 292\u001b[0;31m \u001b[0;32mfrom\u001b[0m \u001b[0;34m.\u001b[0m \u001b[0;32mimport\u001b[0m \u001b[0msigtools\u001b[0m\u001b[0;34m,\u001b[0m \u001b[0mwindows\u001b[0m\u001b[0;34m\u001b[0m\u001b[0;34m\u001b[0m\u001b[0m\n\u001b[0m\u001b[1;32m    293\u001b[0m \u001b[0;32mfrom\u001b[0m \u001b[0;34m.\u001b[0m\u001b[0mwaveforms\u001b[0m \u001b[0;32mimport\u001b[0m \u001b[0;34m*\u001b[0m\u001b[0;34m\u001b[0m\u001b[0;34m\u001b[0m\u001b[0m\n\u001b[1;32m    294\u001b[0m \u001b[0;32mfrom\u001b[0m \u001b[0;34m.\u001b[0m\u001b[0m_max_len_seq\u001b[0m \u001b[0;32mimport\u001b[0m \u001b[0mmax_len_seq\u001b[0m\u001b[0;34m\u001b[0m\u001b[0;34m\u001b[0m\u001b[0m\n",
            "\u001b[0;32m/usr/local/lib/python3.7/dist-packages/scipy/signal/windows/__init__.py\u001b[0m in \u001b[0;36m<module>\u001b[0;34m\u001b[0m\n\u001b[1;32m     39\u001b[0m \"\"\"\n\u001b[1;32m     40\u001b[0m \u001b[0;34m\u001b[0m\u001b[0m\n\u001b[0;32m---> 41\u001b[0;31m \u001b[0;32mfrom\u001b[0m \u001b[0;34m.\u001b[0m\u001b[0mwindows\u001b[0m \u001b[0;32mimport\u001b[0m \u001b[0;34m*\u001b[0m\u001b[0;34m\u001b[0m\u001b[0;34m\u001b[0m\u001b[0m\n\u001b[0m\u001b[1;32m     42\u001b[0m \u001b[0;34m\u001b[0m\u001b[0m\n\u001b[1;32m     43\u001b[0m __all__ = ['boxcar', 'triang', 'parzen', 'bohman', 'blackman', 'nuttall',\n",
            "\u001b[0;32m/usr/local/lib/python3.7/dist-packages/scipy/signal/windows/windows.py\u001b[0m in \u001b[0;36m<module>\u001b[0;34m\u001b[0m\n\u001b[1;32m      5\u001b[0m \u001b[0;34m\u001b[0m\u001b[0m\n\u001b[1;32m      6\u001b[0m \u001b[0;32mimport\u001b[0m \u001b[0mnumpy\u001b[0m \u001b[0;32mas\u001b[0m \u001b[0mnp\u001b[0m\u001b[0;34m\u001b[0m\u001b[0;34m\u001b[0m\u001b[0m\n\u001b[0;32m----> 7\u001b[0;31m \u001b[0;32mfrom\u001b[0m \u001b[0mscipy\u001b[0m \u001b[0;32mimport\u001b[0m \u001b[0mlinalg\u001b[0m\u001b[0;34m,\u001b[0m \u001b[0mspecial\u001b[0m\u001b[0;34m,\u001b[0m \u001b[0mfft\u001b[0m \u001b[0;32mas\u001b[0m \u001b[0msp_fft\u001b[0m\u001b[0;34m\u001b[0m\u001b[0;34m\u001b[0m\u001b[0m\n\u001b[0m\u001b[1;32m      8\u001b[0m \u001b[0;34m\u001b[0m\u001b[0m\n\u001b[1;32m      9\u001b[0m __all__ = ['boxcar', 'triang', 'parzen', 'bohman', 'blackman', 'nuttall',\n",
            "\u001b[0;32m/usr/local/lib/python3.7/dist-packages/scipy/fft/__init__.py\u001b[0m in \u001b[0;36m<module>\u001b[0;34m\u001b[0m\n\u001b[1;32m     82\u001b[0m \"\"\"\n\u001b[1;32m     83\u001b[0m \u001b[0;34m\u001b[0m\u001b[0m\n\u001b[0;32m---> 84\u001b[0;31m from ._basic import (\n\u001b[0m\u001b[1;32m     85\u001b[0m     \u001b[0mfft\u001b[0m\u001b[0;34m,\u001b[0m \u001b[0mifft\u001b[0m\u001b[0;34m,\u001b[0m \u001b[0mfft2\u001b[0m\u001b[0;34m,\u001b[0m \u001b[0mifft2\u001b[0m\u001b[0;34m,\u001b[0m \u001b[0mfftn\u001b[0m\u001b[0;34m,\u001b[0m \u001b[0mifftn\u001b[0m\u001b[0;34m,\u001b[0m\u001b[0;34m\u001b[0m\u001b[0;34m\u001b[0m\u001b[0m\n\u001b[1;32m     86\u001b[0m     \u001b[0mrfft\u001b[0m\u001b[0;34m,\u001b[0m \u001b[0mirfft\u001b[0m\u001b[0;34m,\u001b[0m \u001b[0mrfft2\u001b[0m\u001b[0;34m,\u001b[0m \u001b[0mirfft2\u001b[0m\u001b[0;34m,\u001b[0m \u001b[0mrfftn\u001b[0m\u001b[0;34m,\u001b[0m \u001b[0mirfftn\u001b[0m\u001b[0;34m,\u001b[0m\u001b[0;34m\u001b[0m\u001b[0;34m\u001b[0m\u001b[0m\n",
            "\u001b[0;32m/usr/lib/python3.7/importlib/_bootstrap.py\u001b[0m in \u001b[0;36m_find_and_load\u001b[0;34m(name, import_)\u001b[0m\n",
            "\u001b[0;32m/usr/lib/python3.7/importlib/_bootstrap.py\u001b[0m in \u001b[0;36m_find_and_load_unlocked\u001b[0;34m(name, import_)\u001b[0m\n",
            "\u001b[0;32m/usr/lib/python3.7/importlib/_bootstrap.py\u001b[0m in \u001b[0;36m_load_unlocked\u001b[0;34m(spec)\u001b[0m\n",
            "\u001b[0;32m/usr/lib/python3.7/importlib/_bootstrap_external.py\u001b[0m in \u001b[0;36mexec_module\u001b[0;34m(self, module)\u001b[0m\n",
            "\u001b[0;32m/usr/lib/python3.7/importlib/_bootstrap_external.py\u001b[0m in \u001b[0;36mget_code\u001b[0;34m(self, fullname)\u001b[0m\n",
            "\u001b[0;32m/usr/lib/python3.7/importlib/_bootstrap_external.py\u001b[0m in \u001b[0;36mget_data\u001b[0;34m(self, path)\u001b[0m\n",
            "\u001b[0;31mKeyboardInterrupt\u001b[0m: "
          ]
        }
      ],
      "source": [
        "\n",
        "import torch\n",
        "import torchaudio\n",
        "import torch.nn as nn\n",
        "import torch.nn.functional as F\n",
        "\n",
        "import IPython\n",
        "\n",
        "from tortoise.api import TextToSpeech\n",
        "from tortoise.utils.audio import load_audio, load_voice, load_voices\n",
        "\n",
        "# This will download all the models used by Tortoise from the HuggingFace hub.\n",
        "tts = TextToSpeech()\n",
        "from pydub import AudioSegment\n"
      ]
    },
    {
      "cell_type": "code",
      "source": [
        "def text_to_speech(text = \"This is a text  to voice DEMO provided by factory of the sol\", preset= \"fast\", voice = 'geralt', output = '/content/tortoise-tts/tortoise/voices/file3.mp3'):\n",
        "  # Load it and send it through Tortoise.\n",
        "  voice_samples, conditioning_latents = load_voice(voice)\n",
        "  gen = tts.tts_with_preset(text, voice_samples=voice_samples, conditioning_latents=conditioning_latents, \n",
        "                            preset=preset)\n",
        "  torchaudio.save('generated.wav', gen.squeeze(0).cpu(), 24000)\n",
        "  generated_voice = IPython.display.Audio('generated.wav')\n",
        "  AudioSegment.from_wav(\"generated.wav\").export(output, format=\"mp3\")\n",
        "  return(generated_voice)\n",
        "#daniel, deniro\n",
        "text_to_speech(voice = 'freeman', text = AI_response)"
      ],
      "metadata": {
        "id": "2aUMeGZFGA7W"
      },
      "execution_count": null,
      "outputs": []
    },
    {
      "cell_type": "code",
      "source": [],
      "metadata": {
        "id": "LtuXNEBDMz04"
      },
      "execution_count": null,
      "outputs": []
    },
    {
      "cell_type": "code",
      "source": [
        "%cd /content\n",
        "!ls"
      ],
      "metadata": {
        "id": "SrN2m9HQEiZZ"
      },
      "execution_count": null,
      "outputs": []
    },
    {
      "cell_type": "code",
      "execution_count": null,
      "metadata": {
        "id": "vsphzJawLF-f"
      },
      "outputs": [],
      "source": [
        "#@title 1.Upload input_video.mp4 & input_audio.wav files\n",
        "%cd sample_data/\n",
        "from google.colab import files\n",
        "uploaded = files.upload()\n",
        "%cd .."
      ]
    },
    {
      "cell_type": "code",
      "source": [
        "%cd /content"
      ],
      "metadata": {
        "id": "pQCbsyJeZN7U"
      },
      "execution_count": null,
      "outputs": []
    },
    {
      "cell_type": "code",
      "execution_count": null,
      "metadata": {
        "id": "Qgo-oaI3JU2u"
      },
      "outputs": [],
      "source": [
        "#@title <h1>Install Wav2Lip</h1>\n",
        "#@markdown * Install dependencies\n",
        "#@markdown * Download models\n",
        "!rm -rf /content/sample_data\n",
        "!mkdir /content/sample_data\n",
        "\n",
        "!git clone https://github.com/zabique/Wav2Lip\n",
        "\n",
        "#download the pretrained model\n",
        "!wget 'https://iiitaphyd-my.sharepoint.com/personal/radrabha_m_research_iiit_ac_in/_layouts/15/download.aspx?share=EdjI7bZlgApMqsVoEUUXpLsBxqXbn5z8VTmoxp55YNDcIA' -O '/content/Wav2Lip/checkpoints/wav2lip_gan.pth'\n",
        "!wget 'https://iiitaphyd-my.sharepoint.com/:u:/g/personal/radrabha_m_research_iiit_ac_in/Eb3LEzbfuKlJiR600lQWRxgBIY27JZg80f7V9jtMfbNDaQ?e=TBFBVW' -O '/content/Wav2Lip/checkpoints/wav2lip.pth'\n",
        "!pip install https://raw.githubusercontent.com/AwaleSajil/ghc/master/ghc-1.0-py3-none-any.whl\n",
        "\n",
        "# !pip uninstall tensorflow tensorflow-gpu\n",
        "!cd Wav2Lip && pip install -r requirements.txt\n",
        "\n",
        "#download pretrained model for face detection\n",
        "!wget \"https://www.adrianbulat.com/downloads/python-fan/s3fd-619a316812.pth\" -O \"/content/Wav2Lip/face_detection/detection/sfd/s3fd.pth\"\n",
        "\n",
        "!pip install -q youtube-dl\n",
        "!pip install ffmpeg-python\n",
        "from IPython.display import clear_output \n",
        "clear_output()\n",
        "print(\"\\nDone\")"
      ]
    },
    {
      "cell_type": "code",
      "execution_count": null,
      "metadata": {
        "id": "84rigLNhJKAD"
      },
      "outputs": [],
      "source": [
        "%ls"
      ]
    },
    {
      "cell_type": "markdown",
      "metadata": {
        "id": "RgjaWJFs8B38"
      },
      "source": [
        "## *wave2lip*\n",
        "# **Quick guide**\n",
        "1. Create video file input_video.mp4\n",
        "2. Create audio file input_audio.wav\n",
        "3. Both files have to be exact same length\n",
        "4. Target face in the input_video.mp4, must be in ALL videoframes (So no black or blurry frames etc)\n"
      ]
    },
    {
      "cell_type": "code",
      "execution_count": null,
      "metadata": {
        "id": "jR5utmDMcSZY"
      },
      "outputs": [],
      "source": [
        "#@title 2.Create Wav2Lip video (using wav2lip_gan.pth) GAN\n",
        "!cd Wav2Lip && python inference.py --checkpoint_path checkpoints/wav2lip_gan.pth --face \"/content/sample_data/input_video (2).mp4\" --audio \"/content/sample_data/input_audio.wav\" --pad 60 30 20 30\n",
        "#--pads 10 10 10 10 --resize_factor 1"
      ]
    },
    {
      "cell_type": "code",
      "execution_count": null,
      "metadata": {
        "id": "WxbzXZvLliiA"
      },
      "outputs": [],
      "source": [
        "#@title 3.Play result video -  50% scaling\n",
        "from IPython.display import HTML\n",
        "from base64 import b64encode\n",
        "mp4 = open('/content/Wav2Lip/results/result_voice.mp4','rb').read()\n",
        "data_url = \"data:video/mp4;base64,\" + b64encode(mp4).decode()\n",
        "HTML(f\"\"\"\n",
        "<video width=\"50%\" height=\"50%\" controls>\n",
        "      <source src=\"{data_url}\" type=\"video/mp4\">\n",
        "</video>\"\"\")\n",
        "\n"
      ]
    },
    {
      "cell_type": "code",
      "execution_count": null,
      "metadata": {
        "id": "1kt-krsEbz5j"
      },
      "outputs": [],
      "source": [
        "#@title 4.Download Result.mp4 to your computer\n",
        "from google.colab import files\n",
        "files.download('/content/Wav2Lip/results/result_voice.mp4') "
      ]
    },
    {
      "cell_type": "markdown",
      "metadata": {
        "id": "BgMkHOFqT2fK"
      },
      "source": [
        "\n",
        "\n",
        "---\n",
        "\n"
      ]
    }
  ],
  "metadata": {
    "accelerator": "GPU",
    "colab": {
      "provenance": []
    },
    "gpuClass": "standard",
    "kernelspec": {
      "display_name": "Python 3",
      "name": "python3"
    },
    "language_info": {
      "name": "python"
    }
  },
  "nbformat": 4,
  "nbformat_minor": 0
}